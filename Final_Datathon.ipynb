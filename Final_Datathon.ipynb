{
  "nbformat": 4,
  "nbformat_minor": 0,
  "metadata": {
    "colab": {
      "provenance": [],
      "include_colab_link": true
    },
    "kernelspec": {
      "name": "python3",
      "display_name": "Python 3"
    },
    "language_info": {
      "name": "python"
    }
  },
  "cells": [
    {
      "cell_type": "markdown",
      "metadata": {
        "id": "view-in-github",
        "colab_type": "text"
      },
      "source": [
        "<a href=\"https://colab.research.google.com/github/antoniaz24/HousingPrices/blob/main/Final_Datathon.ipynb\" target=\"_parent\"><img src=\"https://colab.research.google.com/assets/colab-badge.svg\" alt=\"Open In Colab\"/></a>"
      ]
    },
    {
      "cell_type": "markdown",
      "source": [
        "Regression Task"
      ],
      "metadata": {
        "id": "wik0sPU83uGv"
      }
    },
    {
      "cell_type": "code",
      "execution_count": null,
      "metadata": {
        "id": "9D_oWewHvVj3"
      },
      "outputs": [],
      "source": [
        "import pandas as pd\n",
        "import numpy as np\n",
        "import matplotlib.pyplot as plt\n",
        "from sklearn.preprocessing import MinMaxScaler\n",
        "from sklearn.preprocessing import OneHotEncoder\n",
        "from sklearn.preprocessing import normalize\n",
        "from sklearn.linear_model import ElasticNetCV\n",
        "from sklearn.compose import make_column_transformer\n",
        "import pickle\n",
        "import xgboost as xgb\n",
        "import multiprocessing\n",
        "from sklearn.model_selection import GridSearchCV"
      ]
    },
    {
      "cell_type": "code",
      "source": [
        "#Import the given data as a pd dataframe\n",
        "data = pd.read_csv('train_data_housing_prices.csv')\n",
        "#Taking a look at the data\n",
        "print(data.head())"
      ],
      "metadata": {
        "id": "_WJy85aI3whA",
        "colab": {
          "base_uri": "https://localhost:8080/"
        },
        "outputId": "3172bac7-7ed9-42ce-d71b-777eef1b0332"
      },
      "execution_count": null,
      "outputs": [
        {
          "output_type": "stream",
          "name": "stdout",
          "text": [
            "   Unnamed: 0  Property Name    Price        House Type  Area in sq ft  \\\n",
            "0           0    Queens Road  1675000             House           2716   \n",
            "1           1  Seward Street   650000  Flat / Apartment            814   \n",
            "2           2    Hotham Road   735000  Flat / Apartment            761   \n",
            "3           3   Festing Road  1765000             House           1986   \n",
            "4           4   Spencer Walk   675000  Flat / Apartment            700   \n",
            "\n",
            "   No. of Bedrooms  No. of Bathrooms  No. of Receptions     Location  \\\n",
            "0                5                 5                  5    Wimbledon   \n",
            "1                2                 2                  2  Clerkenwell   \n",
            "2                2                 2                  2       Putney   \n",
            "3                4                 4                  4       Putney   \n",
            "4                2                 2                  2       Putney   \n",
            "\n",
            "  City/County Postal Code  \n",
            "0      London    SW19 8NY  \n",
            "1      London    EC1V 3PA  \n",
            "2      London    SW15 1QL  \n",
            "3      London    SW15 1LP  \n",
            "4      London    SW15 1PL  \n"
          ]
        }
      ]
    },
    {
      "cell_type": "code",
      "source": [
        "def pre_process(fname, post_dict, mean):\n",
        "  \"\"\"\n",
        "  This function takes in the testing data and the post_dict (post codes dictionary built from the training data)\n",
        "  and outputs pre-processed data in the form X and y to use for the model\n",
        "  \"\"\"\n",
        "  data = pd.read_csv(fname)\n",
        "  transformed = transformer.transform(data)\n",
        "  transformed_data = pd.DataFrame(\n",
        "      transformed, \n",
        "      columns=transformer.get_feature_names())\n",
        "  transformed_data.columns = transformed_data.columns.str.replace('onehotencoder__', '')\n",
        "  transformed_data.columns = transformed_data.columns.str.replace('remainder__', '')\n",
        "  #print(transformed_data.head)\n",
        "  data = transformed_data\n",
        "  first_part = []\n",
        "  postcodes = data['Postal Code']\n",
        "  for i in range(len(data)):\n",
        "    code = postcodes.iloc[i]\n",
        "    first_half = code.split(' ')[0]\n",
        "    first_part.append(first_half)\n",
        "  data['post_first_half'] = first_part\n",
        "  unique_ps = data['post_first_half'].unique()\n",
        "  #price_per_area = data['Price']/data['Area in sq ft']\n",
        "  #mean = np.mean(price_per_area)\n",
        "  for ps in unique_ps:\n",
        "    try:\n",
        "      data.replace(ps, post_dict[ps], inplace=True)\n",
        "    except:\n",
        "      data.replace(ps, mean, inplace=True)\n",
        "  \n",
        "  df = data\n",
        "  encoding = df.iloc[:, :8]\n",
        "  non_encoding = df.iloc[:, 8:]\n",
        "\n",
        "  X_non_encoding = non_encoding.drop(['Property Name','Price', 'Location', 'City/County', 'Postal Code', 'Unnamed: 0'], axis=1)\n",
        "  headings = X_non_encoding.columns\n",
        "  y = df.loc[:, df.columns == 'Price']\n",
        "  X_non_encoding=min_max_scaler.transform(X_non_encoding)\n",
        "  X = pd.concat((encoding, pd.DataFrame(X_non_encoding, columns=headings)), axis=1)\n",
        "  return X, y\n",
        "  "
      ],
      "metadata": {
        "id": "oc1xZEO87_-u"
      },
      "execution_count": null,
      "outputs": []
    },
    {
      "cell_type": "markdown",
      "source": [
        "**Data Cleaning and Checking**\n",
        "\n",
        "The empty strings or the null cells are checked, to see which parts of the data are missing "
      ],
      "metadata": {
        "id": "19jEmOZ1MLGf"
      }
    },
    {
      "cell_type": "code",
      "source": [
        "print((data['House Type']== '').sum())\n",
        "print((data['Area in sq ft'].isnull()).sum())\n",
        "print((data['No. of Bedrooms'].isnull()).sum())\n",
        "print((data['No. of Bathrooms'].isnull()).sum())\n",
        "print((data['No. of Receptions'].isnull()).sum())\n",
        "#print((data['Price'].isnull()))"
      ],
      "metadata": {
        "colab": {
          "base_uri": "https://localhost:8080/"
        },
        "id": "paIfBpSlMOw8",
        "outputId": "1442b705-e652-48a3-b187-bb90994beeb1"
      },
      "execution_count": null,
      "outputs": [
        {
          "output_type": "stream",
          "name": "stdout",
          "text": [
            "0\n",
            "0\n",
            "0\n",
            "0\n",
            "0\n"
          ]
        }
      ]
    },
    {
      "cell_type": "markdown",
      "source": [
        "One hot encoding"
      ],
      "metadata": {
        "id": "S2aVl0UD8Csa"
      }
    },
    {
      "cell_type": "markdown",
      "source": [
        "Use one hot encoding for the categorical column 'House Type':\n"
      ],
      "metadata": {
        "id": "Vl7X826WkBfL"
      }
    },
    {
      "cell_type": "code",
      "source": [
        "transformer = make_column_transformer(\n",
        "    (OneHotEncoder(), ['House Type']),\n",
        "    remainder='passthrough'\n",
        "    )\n",
        "transformed = transformer.fit_transform(data)\n",
        "\n",
        "transformed_data = pd.DataFrame(\n",
        "    transformed, \n",
        "    columns=transformer.get_feature_names_out()\n",
        "    )\n",
        "#for simplicity, remove the prefixes in the new columns names\n",
        "transformed_data.columns = transformed_data.columns.str.replace('onehotencoder__', '')\n",
        "transformed_data.columns = transformed_data.columns.str.replace('remainder__', '')\n",
        "#take a look at the dataframe with one hot encoding\n",
        "print(transformed_data.columns)\n",
        "print(transformed_data.head)"
      ],
      "metadata": {
        "colab": {
          "base_uri": "https://localhost:8080/"
        },
        "id": "XgFZudyULldv",
        "outputId": "9ec79a4b-1a59-4f3f-dd22-c144dc2151d7"
      },
      "execution_count": null,
      "outputs": [
        {
          "output_type": "stream",
          "name": "stdout",
          "text": [
            "Index(['House Type_Bungalow', 'House Type_Duplex',\n",
            "       'House Type_Flat / Apartment', 'House Type_House', 'House Type_Mews',\n",
            "       'House Type_New development', 'House Type_Penthouse',\n",
            "       'House Type_Studio', 'Unnamed: 0', 'Property Name', 'Price',\n",
            "       'Area in sq ft', 'No. of Bedrooms', 'No. of Bathrooms',\n",
            "       'No. of Receptions', 'Location', 'City/County', 'Postal Code'],\n",
            "      dtype='object')\n",
            "<bound method NDFrame.head of      House Type_Bungalow House Type_Duplex House Type_Flat / Apartment  \\\n",
            "0                    0.0               0.0                         0.0   \n",
            "1                    0.0               0.0                         1.0   \n",
            "2                    0.0               0.0                         1.0   \n",
            "3                    0.0               0.0                         0.0   \n",
            "4                    0.0               0.0                         1.0   \n",
            "...                  ...               ...                         ...   \n",
            "3135                 0.0               0.0                         0.0   \n",
            "3136                 0.0               0.0                         1.0   \n",
            "3137                 0.0               0.0                         0.0   \n",
            "3138                 0.0               0.0                         0.0   \n",
            "3139                 0.0               0.0                         0.0   \n",
            "\n",
            "     House Type_House House Type_Mews House Type_New development  \\\n",
            "0                 1.0             0.0                        0.0   \n",
            "1                 0.0             0.0                        0.0   \n",
            "2                 0.0             0.0                        0.0   \n",
            "3                 1.0             0.0                        0.0   \n",
            "4                 0.0             0.0                        0.0   \n",
            "...               ...             ...                        ...   \n",
            "3135              0.0             0.0                        1.0   \n",
            "3136              0.0             0.0                        0.0   \n",
            "3137              1.0             0.0                        0.0   \n",
            "3138              0.0             0.0                        1.0   \n",
            "3139              1.0             0.0                        0.0   \n",
            "\n",
            "     House Type_Penthouse House Type_Studio Unnamed: 0       Property Name  \\\n",
            "0                     0.0               0.0          0         Queens Road   \n",
            "1                     0.0               0.0          1       Seward Street   \n",
            "2                     0.0               0.0          2         Hotham Road   \n",
            "3                     0.0               0.0          3        Festing Road   \n",
            "4                     0.0               0.0          4        Spencer Walk   \n",
            "...                   ...               ...        ...                 ...   \n",
            "3135                  0.0               0.0       3135   One Lillie Square   \n",
            "3136                  0.0               0.0       3136  St. James's Street   \n",
            "3137                  0.0               0.0       3137       Ingram Avenue   \n",
            "3138                  0.0               0.0       3138         Cork Street   \n",
            "3139                  0.0               0.0       3139    Courtenay Avenue   \n",
            "\n",
            "        Price Area in sq ft No. of Bedrooms No. of Bathrooms  \\\n",
            "0     1675000          2716               5                5   \n",
            "1      650000           814               2                2   \n",
            "2      735000           761               2                2   \n",
            "3     1765000          1986               4                4   \n",
            "4      675000           700               2                2   \n",
            "...       ...           ...             ...              ...   \n",
            "3135  3350000          1410               3                3   \n",
            "3136  5275000          1749               3                3   \n",
            "3137  5995000          4435               6                6   \n",
            "3138  6300000          1506               3                3   \n",
            "3139  8650000          5395               6                6   \n",
            "\n",
            "     No. of Receptions                 Location    City/County Postal Code  \n",
            "0                    5                Wimbledon         London    SW19 8NY  \n",
            "1                    2              Clerkenwell         London    EC1V 3PA  \n",
            "2                    2                   Putney         London    SW15 1QL  \n",
            "3                    4                   Putney         London    SW15 1LP  \n",
            "4                    2                   Putney         London    SW15 1PL  \n",
            "...                ...                      ...            ...         ...  \n",
            "3135                 3                      NaN  Lillie Square     SW6 1UE  \n",
            "3136                 3               St James's         London    SW1A 1JT  \n",
            "3137                 6  Hampstead Garden Suburb         London    NW11 6TG  \n",
            "3138                 3                  Mayfair         London     W1S 3AR  \n",
            "3139                 6                 Highgate         London      N6 4LP  \n",
            "\n",
            "[3140 rows x 18 columns]>\n"
          ]
        }
      ]
    },
    {
      "cell_type": "markdown",
      "source": [
        "Mean encoding"
      ],
      "metadata": {
        "id": "X1JZZjdd8mC4"
      }
    },
    {
      "cell_type": "markdown",
      "source": [
        "To encorporate the categorical data given in the columns such as location, city and post code, mean encoding is performed, where the post_code column is replaced with the mean of the rent price per sq ft in the corresponding postal district (given by the first half of the post code)."
      ],
      "metadata": {
        "id": "Sn2SjSr-kRLy"
      }
    },
    {
      "cell_type": "code",
      "source": [
        "data = transformed_data\n",
        "#print(len(data))\n",
        "first_part = []\n",
        "postcodes = data['Postal Code']\n",
        "for i in range(len(data)):\n",
        "  code = postcodes.iloc[i]\n",
        "  first_half = code.split(' ')[0]\n",
        "  first_part.append(first_half)\n",
        "data['post_first_half'] = first_part\n",
        "print(data.head)"
      ],
      "metadata": {
        "id": "4w_3trQF9lER",
        "colab": {
          "base_uri": "https://localhost:8080/"
        },
        "outputId": "f7b9e133-d114-4501-aac2-7038f20234c9"
      },
      "execution_count": null,
      "outputs": [
        {
          "output_type": "stream",
          "name": "stdout",
          "text": [
            "<bound method NDFrame.head of      House Type_Bungalow House Type_Duplex House Type_Flat / Apartment  \\\n",
            "0                    0.0               0.0                         0.0   \n",
            "1                    0.0               0.0                         1.0   \n",
            "2                    0.0               0.0                         1.0   \n",
            "3                    0.0               0.0                         0.0   \n",
            "4                    0.0               0.0                         1.0   \n",
            "...                  ...               ...                         ...   \n",
            "3135                 0.0               0.0                         0.0   \n",
            "3136                 0.0               0.0                         1.0   \n",
            "3137                 0.0               0.0                         0.0   \n",
            "3138                 0.0               0.0                         0.0   \n",
            "3139                 0.0               0.0                         0.0   \n",
            "\n",
            "     House Type_House House Type_Mews House Type_New development  \\\n",
            "0                 1.0             0.0                        0.0   \n",
            "1                 0.0             0.0                        0.0   \n",
            "2                 0.0             0.0                        0.0   \n",
            "3                 1.0             0.0                        0.0   \n",
            "4                 0.0             0.0                        0.0   \n",
            "...               ...             ...                        ...   \n",
            "3135              0.0             0.0                        1.0   \n",
            "3136              0.0             0.0                        0.0   \n",
            "3137              1.0             0.0                        0.0   \n",
            "3138              0.0             0.0                        1.0   \n",
            "3139              1.0             0.0                        0.0   \n",
            "\n",
            "     House Type_Penthouse House Type_Studio Unnamed: 0       Property Name  \\\n",
            "0                     0.0               0.0          0         Queens Road   \n",
            "1                     0.0               0.0          1       Seward Street   \n",
            "2                     0.0               0.0          2         Hotham Road   \n",
            "3                     0.0               0.0          3        Festing Road   \n",
            "4                     0.0               0.0          4        Spencer Walk   \n",
            "...                   ...               ...        ...                 ...   \n",
            "3135                  0.0               0.0       3135   One Lillie Square   \n",
            "3136                  0.0               0.0       3136  St. James's Street   \n",
            "3137                  0.0               0.0       3137       Ingram Avenue   \n",
            "3138                  0.0               0.0       3138         Cork Street   \n",
            "3139                  0.0               0.0       3139    Courtenay Avenue   \n",
            "\n",
            "        Price Area in sq ft No. of Bedrooms No. of Bathrooms  \\\n",
            "0     1675000          2716               5                5   \n",
            "1      650000           814               2                2   \n",
            "2      735000           761               2                2   \n",
            "3     1765000          1986               4                4   \n",
            "4      675000           700               2                2   \n",
            "...       ...           ...             ...              ...   \n",
            "3135  3350000          1410               3                3   \n",
            "3136  5275000          1749               3                3   \n",
            "3137  5995000          4435               6                6   \n",
            "3138  6300000          1506               3                3   \n",
            "3139  8650000          5395               6                6   \n",
            "\n",
            "     No. of Receptions                 Location    City/County Postal Code  \\\n",
            "0                    5                Wimbledon         London    SW19 8NY   \n",
            "1                    2              Clerkenwell         London    EC1V 3PA   \n",
            "2                    2                   Putney         London    SW15 1QL   \n",
            "3                    4                   Putney         London    SW15 1LP   \n",
            "4                    2                   Putney         London    SW15 1PL   \n",
            "...                ...                      ...            ...         ...   \n",
            "3135                 3                      NaN  Lillie Square     SW6 1UE   \n",
            "3136                 3               St James's         London    SW1A 1JT   \n",
            "3137                 6  Hampstead Garden Suburb         London    NW11 6TG   \n",
            "3138                 3                  Mayfair         London     W1S 3AR   \n",
            "3139                 6                 Highgate         London      N6 4LP   \n",
            "\n",
            "     post_first_half  \n",
            "0               SW19  \n",
            "1               EC1V  \n",
            "2               SW15  \n",
            "3               SW15  \n",
            "4               SW15  \n",
            "...              ...  \n",
            "3135             SW6  \n",
            "3136            SW1A  \n",
            "3137            NW11  \n",
            "3138             W1S  \n",
            "3139              N6  \n",
            "\n",
            "[3140 rows x 19 columns]>\n"
          ]
        }
      ]
    },
    {
      "cell_type": "markdown",
      "source": [
        "A dictionary is created to map the postal district with the average price per sq ft in that district"
      ],
      "metadata": {
        "id": "P0AnnTmElD7F"
      }
    },
    {
      "cell_type": "code",
      "source": [
        "unique_ps = data['post_first_half'].unique()\n",
        "\n",
        "post_dict = {}\n",
        "\n",
        "for ps in unique_ps[0:]:\n",
        "  post_dict[ps] = 0\n",
        "  filtered_data = data[data['post_first_half'] == ps]\n",
        "  #print(filtered_data)\n",
        "  mean_price = filtered_data['Price'].mean()\n",
        "  mean_size = filtered_data['Area in sq ft'].mean()\n",
        "  mean_price_per_sq_ft = mean_price/mean_size\n",
        "  post_dict[ps] = mean_price_per_sq_ft\n",
        "\n",
        "print(unique_ps)\n",
        "print(post_dict)\n",
        "\n",
        "for ps in unique_ps:\n",
        "  data.replace(ps, post_dict[ps], inplace=True)\n",
        "print(data.head)"
      ],
      "metadata": {
        "id": "WNVyqBJO_MN-",
        "colab": {
          "base_uri": "https://localhost:8080/"
        },
        "outputId": "5b1f9d1d-a4fe-499b-d0cb-10bc6174a071"
      },
      "execution_count": null,
      "outputs": [
        {
          "output_type": "stream",
          "name": "stdout",
          "text": [
            "['SW19' 'EC1V' 'SW15' 'W2' 'SW11' 'SW6' 'W8' 'N6' 'NW8' 'NW1' 'TW1' 'CR5'\n",
            " 'NW3' 'W11' 'SW9' 'W1G' 'SW3' 'N1' 'NW6' 'KT10' 'KT6' 'SW5' 'SW12' 'SW2'\n",
            " 'W4' 'SW10' 'SW13' 'SW4' 'KT12' 'SW1P' 'E9' 'SW1W' 'N8' 'E5' 'SW16' 'W12'\n",
            " 'WD19' 'HA6' 'E3' 'NW5' 'W1B' 'W5' 'KT7' 'SE7' 'EC1N' 'E8' 'E14' 'IG8'\n",
            " 'KT5' 'W6' 'W9' 'NW11' 'SW1E' 'SE17' 'W1H' 'WC2R' 'IG10' 'SW14' 'SW17'\n",
            " 'SW8' 'EC1A' 'KT2' 'SW18' 'TW9' 'TW10' 'SW1Y' 'SW1X' 'W14' 'N5' 'SE18'\n",
            " 'WD7' 'E1' 'KT22' 'SE1' 'SE8' 'W13' 'WC1X' 'E1W' 'SW20' 'WC2H' 'SW7' 'E2'\n",
            " 'N7' 'HA5' 'W1K' 'NW2' 'KT8' 'SE3' 'CM16' 'N4' 'UB9' 'SW1V' 'SE10' 'W1T'\n",
            " 'W3' 'IG9' 'IG7' 'W1S' 'W1W' 'KT9' 'SE16' 'W1J' 'W1U' 'KT3' 'EC1R' 'SE21'\n",
            " 'NW7' 'EC1M' 'HA7' 'EC2M' 'W7' 'W10' 'WC1E' 'E16' 'TW8' 'N16' 'KT21'\n",
            " 'EC3R' 'EC2A' 'EN9' 'SW1H' 'EC1Y' 'WD23' 'E4' 'N2' 'TW7' 'HA4' 'WC2N'\n",
            " 'WC1H' 'HA1' 'UB10' 'EC4V' 'BR6' 'TW17' 'KT20' 'TW11' 'SM7' 'WC2B' 'WC1N'\n",
            " 'SW1A' 'E20' 'NW10' 'RM4' 'W1F' 'TW12' 'E15' 'TW2' 'SE11' 'RM12' 'UB6'\n",
            " 'EC2Y' 'EC2V']\n",
            "{'SW19': 811.6100362952882, 'EC1V': 1137.7954410665016, 'SW15': 782.3005426592019, 'W2': 1566.163040846678, 'SW11': 934.9405230858929, 'SW6': 1080.9665191225226, 'W8': 1901.4691943127962, 'N6': 1115.7154270798426, 'NW8': 1749.6684932819965, 'NW1': 1634.0610488117652, 'TW1': 837.0306836128451, 'CR5': 341.9956861884916, 'NW3': 1294.8945903532408, 'W11': 1865.2788378029845, 'SW9': 769.4483734087695, 'W1G': 1775.4599338003234, 'SW3': 2334.4653545477995, 'N1': 1026.1372305520333, 'NW6': 874.1710860041503, 'KT10': 543.468697290225, 'KT6': 546.7000645185775, 'SW5': 1440.1386442411501, 'SW12': 786.9003041921717, 'SW2': 709.1631941125872, 'W4': 876.1916721645775, 'SW10': 1579.6227586512734, 'SW13': 950.7353545553821, 'SW4': 898.5593457943925, 'KT12': 517.6912979270361, 'SW1P': 1322.2686890850641, 'E9': 786.8492317054618, 'SW1W': 1990.5250320522844, 'N8': 884.536610343062, 'E5': 747.9041916167664, 'SW16': 551.3188822146775, 'W12': 952.8444732857453, 'WD19': 409.26760314515417, 'HA6': 550.7333339084971, 'E3': 715.4219569679921, 'NW5': 984.2889754263463, 'W1B': 2032.3150719515277, 'W5': 721.1193039077257, 'KT7': 553.232942322523, 'SE7': 463.6498516320475, 'EC1N': 1164.3294489433142, 'E8': 789.678307624044, 'E14': 805.7750628751858, 'IG8': 538.5735080058224, 'KT5': 547.7811692885654, 'W6': 1016.6106925660342, 'W9': 1215.3912065549189, 'NW11': 1301.550593451254, 'SW1E': 1565.8434829419284, 'SE17': 730.0240054869683, 'W1H': 1800.0182882223849, 'WC2R': 1975.0926307122272, 'IG10': 535.423858110041, 'SW14': 841.1380032349934, 'SW17': 690.0611386352093, 'SW8': 983.950908661789, 'EC1A': 1505.6866406382617, 'KT2': 689.1279158408294, 'SW18': 793.3645882256626, 'TW9': 952.7807413015796, 'TW10': 919.1423788739224, 'SW1Y': 1675.7754800590842, 'SW1X': 2755.3273779818346, 'W14': 1025.0137960635232, 'N5': 910.8706046785345, 'SE18': 637.7835626626999, 'WD7': 410.8565737051793, 'E1': 855.1105347287149, 'KT22': 521.6783397014195, 'SE1': 1568.4013262217097, 'SE8': 567.3758865248227, 'W13': 763.7272353827194, 'WC1X': 1071.7009916094585, 'E1W': 902.2468763464024, 'SW20': 733.5479728162959, 'WC2H': 1623.3062330623306, 'SW7': 2188.1373716414564, 'E2': 877.750395136778, 'N7': 908.7723029045643, 'HA5': 565.1237890204521, 'W1K': 4010.1623333773264, 'NW2': 786.9900943764136, 'KT8': 606.7587079753289, 'SE3': 667.2882641157256, 'CM16': 542.0610676547276, 'N4': 720.4002983590253, 'UB9': 266.67715544367525, 'SW1V': 1121.2621468502607, 'SE10': 703.1314666389092, 'W1T': 1731.503748762201, 'W3': 687.8816142681651, 'IG9': 492.27799227799227, 'IG7': 600.1307677937605, 'W1S': 3703.8913660316175, 'W1W': 1694.3243004678259, 'KT9': 453.3741037536904, 'SE16': 769.1734921816828, 'W1J': 3342.816500711238, 'W1U': 2174.741932483958, 'KT3': 510.0, 'EC1R': 1029.0854224698237, 'SE21': 545.8515283842795, 'NW7': 621.5360253365004, 'EC1M': 1158.8376209582252, 'HA7': 828.4939992257065, 'EC2M': 1970.8588957055215, 'W7': 444.4883445278546, 'W10': 1022.63353617309, 'WC1E': 1519.663993890798, 'E16': 605.0628299501822, 'TW8': 626.1326567596956, 'N16': 927.7101740294512, 'KT21': 549.6231155778894, 'EC3R': 2052.5369803621525, 'EC2A': 1070.4908099373863, 'EN9': 459.2668051639709, 'SW1H': 1450.3386004514673, 'EC1Y': 1059.8491271820449, 'WD23': 477.59433962264154, 'E4': 516.2241887905604, 'N2': 1256.7672080433101, 'TW7': 828.2904689863842, 'HA4': 686.703821656051, 'WC2N': 1413.4275618374559, 'WC1H': 1646.9893742621016, 'HA1': 771.3073659853452, 'UB10': 479.28791509756934, 'EC4V': 1420.863309352518, 'BR6': 416.8494953927161, 'TW17': 540.7653910149751, 'KT20': 425.77943229409027, 'TW11': 693.7649630477775, 'SM7': 466.77982541222116, 'WC2B': 1797.0219435736676, 'WC1N': 1293.0232558139535, 'SW1A': 3072.4652814033625, 'E20': 769.9711260827719, 'NW10': 680.2235179786201, 'RM4': 465.79887697805003, 'W1F': 1779.3594306049822, 'TW12': 693.2610379550736, 'E15': 673.4913793103449, 'TW2': 691.3272374619008, 'SE11': 878.0, 'RM12': 489.6939393939394, 'UB6': 570.6760316066725, 'EC2Y': 1398.6013986013986, 'EC2V': 1174.863387978142}\n",
            "<bound method NDFrame.head of       House Type_Bungalow  House Type_Duplex  House Type_Flat / Apartment  \\\n",
            "0                     0.0                0.0                          0.0   \n",
            "1                     0.0                0.0                          1.0   \n",
            "2                     0.0                0.0                          1.0   \n",
            "3                     0.0                0.0                          0.0   \n",
            "4                     0.0                0.0                          1.0   \n",
            "...                   ...                ...                          ...   \n",
            "3135                  0.0                0.0                          0.0   \n",
            "3136                  0.0                0.0                          1.0   \n",
            "3137                  0.0                0.0                          0.0   \n",
            "3138                  0.0                0.0                          0.0   \n",
            "3139                  0.0                0.0                          0.0   \n",
            "\n",
            "      House Type_House  House Type_Mews  House Type_New development  \\\n",
            "0                  1.0              0.0                         0.0   \n",
            "1                  0.0              0.0                         0.0   \n",
            "2                  0.0              0.0                         0.0   \n",
            "3                  1.0              0.0                         0.0   \n",
            "4                  0.0              0.0                         0.0   \n",
            "...                ...              ...                         ...   \n",
            "3135               0.0              0.0                         1.0   \n",
            "3136               0.0              0.0                         0.0   \n",
            "3137               1.0              0.0                         0.0   \n",
            "3138               0.0              0.0                         1.0   \n",
            "3139               1.0              0.0                         0.0   \n",
            "\n",
            "      House Type_Penthouse  House Type_Studio  Unnamed: 0       Property Name  \\\n",
            "0                      0.0                0.0           0         Queens Road   \n",
            "1                      0.0                0.0           1       Seward Street   \n",
            "2                      0.0                0.0           2         Hotham Road   \n",
            "3                      0.0                0.0           3        Festing Road   \n",
            "4                      0.0                0.0           4        Spencer Walk   \n",
            "...                    ...                ...         ...                 ...   \n",
            "3135                   0.0                0.0        3135   One Lillie Square   \n",
            "3136                   0.0                0.0        3136  St. James's Street   \n",
            "3137                   0.0                0.0        3137       Ingram Avenue   \n",
            "3138                   0.0                0.0        3138         Cork Street   \n",
            "3139                   0.0                0.0        3139    Courtenay Avenue   \n",
            "\n",
            "        Price  Area in sq ft  No. of Bedrooms  No. of Bathrooms  \\\n",
            "0     1675000           2716                5                 5   \n",
            "1      650000            814                2                 2   \n",
            "2      735000            761                2                 2   \n",
            "3     1765000           1986                4                 4   \n",
            "4      675000            700                2                 2   \n",
            "...       ...            ...              ...               ...   \n",
            "3135  3350000           1410                3                 3   \n",
            "3136  5275000           1749                3                 3   \n",
            "3137  5995000           4435                6                 6   \n",
            "3138  6300000           1506                3                 3   \n",
            "3139  8650000           5395                6                 6   \n",
            "\n",
            "      No. of Receptions                 Location    City/County Postal Code  \\\n",
            "0                     5                Wimbledon         London    SW19 8NY   \n",
            "1                     2              Clerkenwell         London    EC1V 3PA   \n",
            "2                     2                   Putney         London    SW15 1QL   \n",
            "3                     4                   Putney         London    SW15 1LP   \n",
            "4                     2                   Putney         London    SW15 1PL   \n",
            "...                 ...                      ...            ...         ...   \n",
            "3135                  3                      NaN  Lillie Square     SW6 1UE   \n",
            "3136                  3               St James's         London    SW1A 1JT   \n",
            "3137                  6  Hampstead Garden Suburb         London    NW11 6TG   \n",
            "3138                  3                  Mayfair         London     W1S 3AR   \n",
            "3139                  6                 Highgate         London      N6 4LP   \n",
            "\n",
            "      post_first_half  \n",
            "0          811.610036  \n",
            "1         1137.795441  \n",
            "2          782.300543  \n",
            "3          782.300543  \n",
            "4          782.300543  \n",
            "...               ...  \n",
            "3135      1080.966519  \n",
            "3136      3072.465281  \n",
            "3137      1301.550593  \n",
            "3138      3703.891366  \n",
            "3139      1115.715427  \n",
            "\n",
            "[3140 rows x 19 columns]>\n"
          ]
        }
      ]
    },
    {
      "cell_type": "markdown",
      "source": [],
      "metadata": {
        "id": "U97CAdCzk_HX"
      }
    },
    {
      "cell_type": "code",
      "source": [
        "price_per_area = data['Price']/data['Area in sq ft']\n",
        "mean = np.mean(price_per_area)\n",
        "print(mean)"
      ],
      "metadata": {
        "id": "T6PgSKl0B3kJ",
        "colab": {
          "base_uri": "https://localhost:8080/"
        },
        "outputId": "e9661336-8ff5-4b0b-ad64-736d856e1f53"
      },
      "execution_count": null,
      "outputs": [
        {
          "output_type": "stream",
          "name": "stdout",
          "text": [
            "1066.6147033213776\n"
          ]
        }
      ]
    },
    {
      "cell_type": "markdown",
      "source": [
        "Model Train"
      ],
      "metadata": {
        "id": "YXlEb8eoCbVu"
      }
    },
    {
      "cell_type": "code",
      "source": [
        "df = data\n",
        "#print(df.head())\n",
        "encoding = df.iloc[:, :8]\n",
        "non_encoding = df.iloc[:, 8:]\n",
        "X_non_encoding = non_encoding.drop(['Price', 'Location', 'City/County', 'Unnamed: 0', 'Property Name', 'Postal Code'], axis=1)\n",
        "headings = X_non_encoding.columns\n",
        "y = df.loc[:, df.columns == 'Price']\n",
        "min_max_scaler = MinMaxScaler()\n",
        "X_non_encoding = min_max_scaler.fit_transform(X_non_encoding)\n",
        "X = pd.concat((encoding, pd.DataFrame(X_non_encoding, columns=headings)), axis=1)\n",
        "print(X)"
      ],
      "metadata": {
        "id": "igMV6XbVCfeq",
        "colab": {
          "base_uri": "https://localhost:8080/"
        },
        "outputId": "b0018e0b-95cf-4d53-9158-edc041e47909"
      },
      "execution_count": null,
      "outputs": [
        {
          "output_type": "stream",
          "name": "stdout",
          "text": [
            "      House Type_Bungalow  House Type_Duplex  House Type_Flat / Apartment  \\\n",
            "0                     0.0                0.0                          0.0   \n",
            "1                     0.0                0.0                          1.0   \n",
            "2                     0.0                0.0                          1.0   \n",
            "3                     0.0                0.0                          0.0   \n",
            "4                     0.0                0.0                          1.0   \n",
            "...                   ...                ...                          ...   \n",
            "3135                  0.0                0.0                          0.0   \n",
            "3136                  0.0                0.0                          1.0   \n",
            "3137                  0.0                0.0                          0.0   \n",
            "3138                  0.0                0.0                          0.0   \n",
            "3139                  0.0                0.0                          0.0   \n",
            "\n",
            "      House Type_House  House Type_Mews  House Type_New development  \\\n",
            "0                  1.0              0.0                         0.0   \n",
            "1                  0.0              0.0                         0.0   \n",
            "2                  0.0              0.0                         0.0   \n",
            "3                  1.0              0.0                         0.0   \n",
            "4                  0.0              0.0                         0.0   \n",
            "...                ...              ...                         ...   \n",
            "3135               0.0              0.0                         1.0   \n",
            "3136               0.0              0.0                         0.0   \n",
            "3137               1.0              0.0                         0.0   \n",
            "3138               0.0              0.0                         1.0   \n",
            "3139               1.0              0.0                         0.0   \n",
            "\n",
            "      House Type_Penthouse  House Type_Studio  Area in sq ft  No. of Bedrooms  \\\n",
            "0                      0.0                0.0       0.161391              0.5   \n",
            "1                      0.0                0.0       0.035688              0.2   \n",
            "2                      0.0                0.0       0.032186              0.2   \n",
            "3                      0.0                0.0       0.113145              0.4   \n",
            "4                      0.0                0.0       0.028154              0.2   \n",
            "...                    ...                ...            ...              ...   \n",
            "3135                   0.0                0.0       0.075078              0.3   \n",
            "3136                   0.0                0.0       0.097482              0.3   \n",
            "3137                   0.0                0.0       0.274998              0.6   \n",
            "3138                   0.0                0.0       0.081422              0.3   \n",
            "3139                   0.0                0.0       0.338444              0.6   \n",
            "\n",
            "      No. of Bathrooms  No. of Receptions  post_first_half  \n",
            "0                  0.5                0.5         0.145568  \n",
            "1                  0.2                0.2         0.232702  \n",
            "2                  0.2                0.2         0.137739  \n",
            "3                  0.4                0.4         0.137739  \n",
            "4                  0.2                0.2         0.137739  \n",
            "...                ...                ...              ...  \n",
            "3135               0.3                0.3         0.217522  \n",
            "3136               0.3                0.3         0.749512  \n",
            "3137               0.6                0.6         0.276447  \n",
            "3138               0.3                0.3         0.918186  \n",
            "3139               0.6                0.6         0.226804  \n",
            "\n",
            "[3140 rows x 13 columns]\n"
          ]
        }
      ]
    },
    {
      "cell_type": "code",
      "source": [
        "regr = ElasticNetCV(l1_ratio = 1, cv=5, random_state=1)\n",
        "regr.fit(X, y)\n",
        "#s = pickle.dump(regr, 'elastic regr model')\n",
        "\n",
        "print('R^2 score ' + str(regr.score(X, y)))\n"
      ],
      "metadata": {
        "colab": {
          "base_uri": "https://localhost:8080/"
        },
        "id": "rFTYrgQzN1T_",
        "outputId": "4ef1c6a1-1306-45e2-b8c8-a30ed6eac5ef"
      },
      "execution_count": null,
      "outputs": [
        {
          "output_type": "stream",
          "name": "stdout",
          "text": [
            "R^2 score 0.675604757614714\n"
          ]
        },
        {
          "output_type": "stream",
          "name": "stderr",
          "text": [
            "/usr/local/lib/python3.8/dist-packages/sklearn/linear_model/_coordinate_descent.py:1571: DataConversionWarning: A column-vector y was passed when a 1d array was expected. Please change the shape of y to (n_samples, ), for example using ravel().\n",
            "  y = column_or_1d(y, warn=True)\n"
          ]
        }
      ]
    },
    {
      "cell_type": "code",
      "source": [
        "\n",
        "\n",
        "xgb_model = xgb.XGBRegressor(n_jobs=multiprocessing.cpu_count() // 2, booster='dart')\n",
        "clf = GridSearchCV(xgb_model, {'max_depth': [4],\n",
        "                                'n_estimators': [50],\n",
        "                               'learning_rate': [0.15],\n",
        "                               'gamma': np.linspace(0,1,20)}, verbose=1,\n",
        "                    n_jobs=2)\n",
        "clf.fit(X, y)\n",
        "print(clf.best_score_)\n",
        "print(clf.best_params_)\n",
        "\n",
        "best_lr = clf.best_params_['learning_rate']\n",
        "best_md = clf.best_params_['max_depth']\n",
        "best_ne = clf.best_params_['n_estimators']\n",
        "\n",
        "\n",
        "\n",
        "# print('R^2 score ' + str(clf.score(X, y)))"
      ],
      "metadata": {
        "colab": {
          "base_uri": "https://localhost:8080/"
        },
        "id": "LBSc7g9sQHhZ",
        "outputId": "28d3a4a2-4424-404a-b3c9-847cb4c52fd5"
      },
      "execution_count": null,
      "outputs": [
        {
          "output_type": "stream",
          "name": "stdout",
          "text": [
            "Fitting 5 folds for each of 20 candidates, totalling 100 fits\n",
            "[07:00:43] WARNING: /workspace/src/objective/regression_obj.cu:152: reg:linear is now deprecated in favor of reg:squarederror.\n",
            "0.8437874199716155\n",
            "{'gamma': 0.0, 'learning_rate': 0.15, 'max_depth': 4, 'n_estimators': 50}\n"
          ]
        }
      ]
    },
    {
      "cell_type": "code",
      "source": [
        "xgb.XGBRegressor(learning_rate=best_lr, max_depth=best_md, n_estimators=best_ne, booster='dart').fit(X,y).save_model(\"model.json\")"
      ],
      "metadata": {
        "id": "nUX-u3HoQQYp",
        "colab": {
          "base_uri": "https://localhost:8080/"
        },
        "outputId": "38543658-7ad3-4f7d-cf96-7fbdb4ec04d5"
      },
      "execution_count": null,
      "outputs": [
        {
          "output_type": "stream",
          "name": "stdout",
          "text": [
            "[07:00:43] WARNING: /workspace/src/objective/regression_obj.cu:152: reg:linear is now deprecated in favor of reg:squarederror.\n"
          ]
        }
      ]
    },
    {
      "cell_type": "code",
      "source": [
        "model = xgb.XGBRegressor(learning_rate=0.15, max_depth=4, n_estimators=50, booster='dart')\n",
        "model.load_model(\"model.json\")\n",
        "\n",
        "prediction = model.predict(X)\n",
        "real = y\n",
        "\n",
        "print(prediction[:5])\n",
        "print(real[:5].values.flatten())"
      ],
      "metadata": {
        "id": "_Tj-W9w3QjjN",
        "colab": {
          "base_uri": "https://localhost:8080/"
        },
        "outputId": "394e5ea7-7e90-441d-ec68-e1b1b3a0a0d9"
      },
      "execution_count": null,
      "outputs": [
        {
          "output_type": "stream",
          "name": "stdout",
          "text": [
            "[07:00:43] WARNING: /workspace/src/objective/regression_obj.cu:152: reg:linear is now deprecated in favor of reg:squarederror.\n",
            "[2392991.    821237.44  622193.06 1480138.6   553439.2 ]\n",
            "[1675000  650000  735000 1765000  675000]\n"
          ]
        }
      ]
    },
    {
      "cell_type": "markdown",
      "source": [
        "Testing Data"
      ],
      "metadata": {
        "id": "x3pC80oCmZ0L"
      }
    },
    {
      "cell_type": "code",
      "source": [
        "fname='test_data_housing.csv' # Change to testing dataset\n",
        "X_test, y_test = pre_process(fname, post_dict, mean)\n",
        "#print(X_test.head)\n",
        "model = xgb.XGBRegressor(learning_rate=0.15, max_depth=4, n_estimators=50, booster='dart')\n",
        "model.load_model(\"model.json\")\n",
        "\n",
        "score = model.score(X_test,y_test)\n",
        "print(score)\n",
        "prediction = model.predict(X_test)\n",
        "print(prediction[:5])\n",
        "print(y_test[:5])\n",
        "\n",
        "#print(X_test.head)\n",
        "\n",
        "# plt.figure(1)\n",
        "# plt.hist(prediction)\n",
        "# plt.hist(y_test)\n",
        "\n",
        "plt.figure(2)\n",
        "plt.plot(prediction, y_test, linestyle='None', marker='x')\n",
        "plt.xlabel('House pricing model predictions')\n",
        "plt.ylabel('House pricing test values')\n",
        "plt.title('Model evaluation on test data')\n",
        "\n"
      ],
      "metadata": {
        "id": "Ssd-g2jtgBPy",
        "colab": {
          "base_uri": "https://localhost:8080/",
          "height": 523
        },
        "outputId": "62cc7281-afdf-419b-d174-99d427f8c2c4"
      },
      "execution_count": null,
      "outputs": [
        {
          "output_type": "stream",
          "name": "stderr",
          "text": [
            "/usr/local/lib/python3.8/dist-packages/sklearn/utils/deprecation.py:87: FutureWarning: Function get_feature_names is deprecated; get_feature_names is deprecated in 1.0 and will be removed in 1.2. Please use get_feature_names_out instead.\n",
            "  warnings.warn(msg, category=FutureWarning)\n"
          ]
        },
        {
          "output_type": "stream",
          "name": "stdout",
          "text": [
            "[07:01:00] WARNING: /workspace/src/objective/regression_obj.cu:152: reg:linear is now deprecated in favor of reg:squarederror.\n",
            "0.9064332836671739\n",
            "[ 672018.6   580323.06 1783287.9   611100.75  969156.4 ]\n",
            "     Price\n",
            "0   775000\n",
            "1   625000\n",
            "2  1825000\n",
            "3   400000\n",
            "4  1250000\n"
          ]
        },
        {
          "output_type": "execute_result",
          "data": {
            "text/plain": [
              "Text(0.5, 1.0, 'Model evaluation on test data')"
            ]
          },
          "metadata": {},
          "execution_count": 18
        },
        {
          "output_type": "display_data",
          "data": {
            "text/plain": [
              "<Figure size 432x288 with 1 Axes>"
            ],
            "image/png": "[encoded data removed]"
          },
          "metadata": {
            "needs_background": "light"
          }
        }
      ]
    },
    {
      "cell_type": "code",
      "source": [],
      "metadata": {
        "id": "z6DpbfRJoND1"
      },
      "execution_count": null,
      "outputs": []
    }
  ]
}